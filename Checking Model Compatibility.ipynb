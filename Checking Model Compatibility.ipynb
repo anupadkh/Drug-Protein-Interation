{
 "cells": [
  {
   "cell_type": "code",
   "execution_count": 2,
   "metadata": {},
   "outputs": [],
   "source": [
    "import sys, pickle, os\n",
    "import math, json, time\n",
    "import decimal\n",
    "import matplotlib.pyplot as plt\n",
    "import matplotlib.mlab as mlab\n",
    "from random import shuffle\n",
    "from copy import deepcopy\n",
    "from sklearn import preprocessing"
   ]
  },
  {
   "cell_type": "code",
   "execution_count": 3,
   "metadata": {},
   "outputs": [
    {
     "name": "stderr",
     "output_type": "stream",
     "text": [
      "Using TensorFlow backend.\n"
     ]
    }
   ],
   "source": [
    "import keras\n",
    "from keras.models import Model\n",
    "from keras.preprocessing import sequence\n",
    "from keras.models import Sequential, load_model\n",
    "from keras.layers import Dense, Dropout, Activation, Add\n",
    "from keras.layers import Embedding\n",
    "from keras.layers import Conv1D, GlobalMaxPooling1D, MaxPooling1D\n",
    "from keras.layers.normalization import BatchNormalization\n",
    "from keras.layers import Conv2D, GRU\n",
    "from keras.layers import Input, Embedding, LSTM, Dense, TimeDistributed, Masking, RepeatVector, merge, Flatten\n",
    "from keras.models import Model\n",
    "from keras.utils import plot_model\n",
    "from keras.layers import Bidirectional\n",
    "from keras.callbacks import ModelCheckpoint, EarlyStopping\n",
    "from keras import optimizers, layers"
   ]
  },
  {
   "cell_type": "code",
   "execution_count": 42,
   "metadata": {},
   "outputs": [],
   "source": [
    "XDinput = Input(shape=(1000,), dtype='int32') ### Buralar flagdan gelmeliii\n",
    "XTinput = Input(shape=(400,), dtype='int32')\n",
    "NUM_FILTERS = 32\n",
    "FILTER_LENGTH1 = 16\n",
    "FILTER_LENGTH2 = 16"
   ]
  },
  {
   "cell_type": "code",
   "execution_count": 43,
   "metadata": {},
   "outputs": [],
   "source": [
    "encode_smiles = Embedding(input_dim=1000+1, output_dim=128, input_length=1000)(XDinput)\n",
    "encode_smiles = Conv1D(filters=NUM_FILTERS, kernel_size=FILTER_LENGTH1,  activation='relu', padding='valid',  strides=1)(encode_smiles)\n",
    "encode_smiles = Conv1D(filters=NUM_FILTERS*2, kernel_size=FILTER_LENGTH1,  activation='relu', padding='valid',  strides=1)(encode_smiles)\n",
    "encode_smiles = Conv1D(filters=NUM_FILTERS*3, kernel_size=FILTER_LENGTH1,  activation='relu', padding='valid',  strides=1)(encode_smiles)\n",
    "encode_smiles = GlobalMaxPooling1D()(encode_smiles)\n",
    "\n",
    "\n",
    "encode_protein = Embedding(input_dim=400+1, output_dim=128, input_length=400)(XTinput)\n",
    "encode_protein = Conv1D(filters=NUM_FILTERS, kernel_size=FILTER_LENGTH2,  activation='relu', padding='valid',  strides=1)(encode_protein)\n",
    "encode_protein = Conv1D(filters=NUM_FILTERS*2, kernel_size=FILTER_LENGTH2,  activation='relu', padding='valid',  strides=1)(encode_protein)\n",
    "encode_protein = Conv1D(filters=NUM_FILTERS*3, kernel_size=FILTER_LENGTH2,  activation='relu', padding='valid',  strides=1)(encode_protein)\n",
    "encode_protein = GlobalMaxPooling1D()(encode_protein)\n",
    "\n",
    "XEInput = Input(shape=(500,), dtype='float32')\n",
    "# encode_energy = GlobalMaxPooling1D()(XEInput)\n",
    "\n",
    "encode_interaction = keras.layers.concatenate([encode_smiles, encode_protein], axis=-1) #merge.Add()([encode_smiles, encode_protein])\n",
    "\n",
    "# Fully connected\n",
    "FC1 = Dense(1024, activation='relu')(encode_interaction)\n",
    "# FC1 = keras.layers.concatenate([FC1,XEInput], axis=-1)\n",
    "FC2 = Dropout(0.1)(FC1)\n",
    "FC2 = Dense(1024, activation='relu')(FC2)\n",
    "FC2 = Dropout(0.1)(FC2)\n",
    "FC2 = Dense(512, activation='relu')(FC2)\n",
    "\n",
    "predictions = Dense(1, kernel_initializer='normal')(FC2)"
   ]
  },
  {
   "cell_type": "code",
   "execution_count": 32,
   "metadata": {},
   "outputs": [],
   "source": [
    "# predictions = Dense(1, kernel_initializer='normal')(FC2)"
   ]
  },
  {
   "cell_type": "code",
   "execution_count": 44,
   "metadata": {},
   "outputs": [
    {
     "name": "stdout",
     "output_type": "stream",
     "text": [
      "__________________________________________________________________________________________________\n",
      "Layer (type)                    Output Shape         Param #     Connected to                     \n",
      "==================================================================================================\n",
      "input_23 (InputLayer)           (None, 1000)         0                                            \n",
      "__________________________________________________________________________________________________\n",
      "input_24 (InputLayer)           (None, 400)          0                                            \n",
      "__________________________________________________________________________________________________\n",
      "embedding_30 (Embedding)        (None, 1000, 128)    128128      input_23[0][0]                   \n",
      "__________________________________________________________________________________________________\n",
      "embedding_31 (Embedding)        (None, 400, 128)     51328       input_24[0][0]                   \n",
      "__________________________________________________________________________________________________\n",
      "conv1d_94 (Conv1D)              (None, 985, 32)      65568       embedding_30[0][0]               \n",
      "__________________________________________________________________________________________________\n",
      "conv1d_97 (Conv1D)              (None, 385, 32)      65568       embedding_31[0][0]               \n",
      "__________________________________________________________________________________________________\n",
      "conv1d_95 (Conv1D)              (None, 970, 64)      32832       conv1d_94[0][0]                  \n",
      "__________________________________________________________________________________________________\n",
      "conv1d_98 (Conv1D)              (None, 370, 64)      32832       conv1d_97[0][0]                  \n",
      "__________________________________________________________________________________________________\n",
      "conv1d_96 (Conv1D)              (None, 955, 96)      98400       conv1d_95[0][0]                  \n",
      "__________________________________________________________________________________________________\n",
      "conv1d_99 (Conv1D)              (None, 355, 96)      98400       conv1d_98[0][0]                  \n",
      "__________________________________________________________________________________________________\n",
      "global_max_pooling1d_31 (Global (None, 96)           0           conv1d_96[0][0]                  \n",
      "__________________________________________________________________________________________________\n",
      "global_max_pooling1d_32 (Global (None, 96)           0           conv1d_99[0][0]                  \n",
      "__________________________________________________________________________________________________\n",
      "concatenate_18 (Concatenate)    (None, 192)          0           global_max_pooling1d_31[0][0]    \n",
      "                                                                 global_max_pooling1d_32[0][0]    \n",
      "__________________________________________________________________________________________________\n",
      "dense_38 (Dense)                (None, 1024)         197632      concatenate_18[0][0]             \n",
      "__________________________________________________________________________________________________\n",
      "dropout_14 (Dropout)            (None, 1024)         0           dense_38[0][0]                   \n",
      "__________________________________________________________________________________________________\n",
      "dense_39 (Dense)                (None, 1024)         1049600     dropout_14[0][0]                 \n",
      "__________________________________________________________________________________________________\n",
      "dropout_15 (Dropout)            (None, 1024)         0           dense_39[0][0]                   \n",
      "__________________________________________________________________________________________________\n",
      "dense_40 (Dense)                (None, 512)          524800      dropout_15[0][0]                 \n",
      "__________________________________________________________________________________________________\n",
      "dense_41 (Dense)                (None, 1)            513         dense_40[0][0]                   \n",
      "==================================================================================================\n",
      "Total params: 2,345,601\n",
      "Trainable params: 2,345,601\n",
      "Non-trainable params: 0\n",
      "__________________________________________________________________________________________________\n",
      "None\n"
     ]
    }
   ],
   "source": [
    "interactionModel = Model(inputs=[XDinput, XTinput], outputs=[predictions])\n",
    "\n",
    "interactionModel.compile(optimizer='adam', loss='mean_squared_error') #, metrics=['cindex_score']\n",
    "print(interactionModel.summary())\n",
    "plot_model(interactionModel, to_file='figures/build_combined_categorical.png')"
   ]
  },
  {
   "cell_type": "code",
   "execution_count": 47,
   "metadata": {},
   "outputs": [
    {
     "name": "stdout",
     "output_type": "stream",
     "text": [
      "__________________________________________________________________________________________________\n",
      "Layer (type)                    Output Shape         Param #     Connected to                     \n",
      "==================================================================================================\n",
      "input_23 (InputLayer)           (None, 1000)         0                                            \n",
      "__________________________________________________________________________________________________\n",
      "input_24 (InputLayer)           (None, 400)          0                                            \n",
      "__________________________________________________________________________________________________\n",
      "embedding_30 (Embedding)        (None, 1000, 128)    128128      input_23[0][0]                   \n",
      "__________________________________________________________________________________________________\n",
      "embedding_31 (Embedding)        (None, 400, 128)     51328       input_24[0][0]                   \n",
      "__________________________________________________________________________________________________\n",
      "conv1d_94 (Conv1D)              (None, 985, 32)      65568       embedding_30[0][0]               \n",
      "__________________________________________________________________________________________________\n",
      "conv1d_97 (Conv1D)              (None, 385, 32)      65568       embedding_31[0][0]               \n",
      "__________________________________________________________________________________________________\n",
      "conv1d_95 (Conv1D)              (None, 970, 64)      32832       conv1d_94[0][0]                  \n",
      "__________________________________________________________________________________________________\n",
      "conv1d_98 (Conv1D)              (None, 370, 64)      32832       conv1d_97[0][0]                  \n",
      "__________________________________________________________________________________________________\n",
      "conv1d_96 (Conv1D)              (None, 955, 96)      98400       conv1d_95[0][0]                  \n",
      "__________________________________________________________________________________________________\n",
      "conv1d_99 (Conv1D)              (None, 355, 96)      98400       conv1d_98[0][0]                  \n",
      "__________________________________________________________________________________________________\n",
      "global_max_pooling1d_31 (Global (None, 96)           0           conv1d_96[0][0]                  \n",
      "__________________________________________________________________________________________________\n",
      "global_max_pooling1d_32 (Global (None, 96)           0           conv1d_99[0][0]                  \n",
      "__________________________________________________________________________________________________\n",
      "concatenate_18 (Concatenate)    (None, 192)          0           global_max_pooling1d_31[0][0]    \n",
      "                                                                 global_max_pooling1d_32[0][0]    \n",
      "__________________________________________________________________________________________________\n",
      "dense_38 (Dense)                (None, 1024)         197632      concatenate_18[0][0]             \n",
      "__________________________________________________________________________________________________\n",
      "dropout_14 (Dropout)            (None, 1024)         0           dense_38[0][0]                   \n",
      "__________________________________________________________________________________________________\n",
      "input_28 (InputLayer)           (None, 500, 1)       0                                            \n",
      "__________________________________________________________________________________________________\n",
      "dense_39 (Dense)                (None, 1024)         1049600     dropout_14[0][0]                 \n",
      "__________________________________________________________________________________________________\n",
      "conv1d_102 (Conv1D)             (None, 485, 32)      544         input_28[0][0]                   \n",
      "__________________________________________________________________________________________________\n",
      "dropout_15 (Dropout)            (None, 1024)         0           dense_39[0][0]                   \n",
      "__________________________________________________________________________________________________\n",
      "global_max_pooling1d_33 (Global (None, 32)           0           conv1d_102[0][0]                 \n",
      "__________________________________________________________________________________________________\n",
      "dense_40 (Dense)                (None, 512)          524800      dropout_15[0][0]                 \n",
      "__________________________________________________________________________________________________\n",
      "dense_44 (Dense)                (None, 10)           330         global_max_pooling1d_33[0][0]    \n",
      "__________________________________________________________________________________________________\n",
      "concatenate_21 (Concatenate)    (None, 522)          0           dense_40[0][0]                   \n",
      "                                                                 dense_44[0][0]                   \n",
      "__________________________________________________________________________________________________\n",
      "dense_45 (Dense)                (None, 100)          52300       concatenate_21[0][0]             \n",
      "__________________________________________________________________________________________________\n",
      "dropout_16 (Dropout)            (None, 100)          0           dense_45[0][0]                   \n",
      "__________________________________________________________________________________________________\n",
      "dense_46 (Dense)                (None, 1)            101         dropout_16[0][0]                 \n",
      "==================================================================================================\n",
      "Total params: 2,398,363\n",
      "Trainable params: 2,398,363\n",
      "Non-trainable params: 0\n",
      "__________________________________________________________________________________________________\n",
      "None\n"
     ]
    }
   ],
   "source": [
    "XEInput = Input(shape=(500,1,), dtype='float32')\n",
    "\n",
    "energy_mat = Conv1D(filters=NUM_FILTERS, kernel_size=FILTER_LENGTH1,  activation='relu', padding='valid')(XEInput)\n",
    "encode_energy = GlobalMaxPooling1D()(energy_mat)\n",
    "\n",
    "energy_mat = Dense(10, activation='relu')(encode_energy)\n",
    "\n",
    "\n",
    "FC3 = keras.layers.concatenate([FC2, energy_mat], axis=-1)\n",
    "pred_prev = Dense(100, kernel_initializer='normal')(FC3)\n",
    "pred_prev =  Dropout(0.1)(pred_prev)\n",
    "pred = Dense(1, kernel_initializer='normal')(pred_prev)\n",
    "\n",
    "newModel = Model(inputs=[XDinput, XTinput, XEInput], outputs=[pred] )\n",
    "newModel.compile(optimizer='adam', loss='mean_squared_error')\n",
    "print(newModel.summary())"
   ]
  },
  {
   "cell_type": "code",
   "execution_count": null,
   "metadata": {},
   "outputs": [],
   "source": []
  }
 ],
 "metadata": {
  "kernelspec": {
   "display_name": "Python 3",
   "language": "python",
   "name": "python3"
  },
  "language_info": {
   "codemirror_mode": {
    "name": "ipython",
    "version": 3
   },
   "file_extension": ".py",
   "mimetype": "text/x-python",
   "name": "python",
   "nbconvert_exporter": "python",
   "pygments_lexer": "ipython3",
   "version": "3.6.5"
  }
 },
 "nbformat": 4,
 "nbformat_minor": 2
}
